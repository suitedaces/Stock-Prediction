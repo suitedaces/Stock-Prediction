{
  "nbformat": 4,
  "nbformat_minor": 0,
  "metadata": {
    "colab": {
      "name": "stockLSTM.ipynb",
      "provenance": [],
      "collapsed_sections": []
    },
    "kernelspec": {
      "name": "python3",
      "display_name": "Python 3"
    }
  },
  "cells": [
    {
      "cell_type": "code",
      "metadata": {
        "id": "P7NXVg_9ZZmL",
        "colab_type": "code",
        "colab": {}
      },
      "source": [
        "import pandas as pd\n",
        "import numpy as np\n",
        "import re\n",
        "import tensorflow as tf\n",
        "from sklearn.preprocessing  import StandardScaler,MinMaxScaler\n",
        "from keras.models import Sequential\n",
        "from keras.layers import Dense\n",
        "from keras.layers import LSTM\n",
        "from keras.layers import Dropout\n",
        "import matplotlib.pyplot as plt"
      ],
      "execution_count": 0,
      "outputs": []
    },
    {
      "cell_type": "code",
      "metadata": {
        "id": "SZsKC4xzZipP",
        "colab_type": "code",
        "colab": {}
      },
      "source": [
        "# Apple stock data\n",
        "df = pd.read_csv('https://raw.githubusercontent.com/suitedaces/stock-prediction/master/HistoricalQuotes.csv?token=AMECM5UBJW77O75R3GGYMBS6YAOZ6', index_col = 'Date')\n",
        "df.rename(columns = {' Close/Last': 'Close/Last', ' Volume': 'Volume',  ' Open': 'Open', ' High': 'High', ' Low' : 'Low'}, inplace = True)\n",
        "df[df.columns[0:]] = df[df.columns[0:]].replace('[\\$,]', '', regex=True).astype(float)"
      ],
      "execution_count": 0,
      "outputs": []
    },
    {
      "cell_type": "code",
      "metadata": {
        "id": "yHzjqZFqZ8q0",
        "colab_type": "code",
        "colab": {
          "base_uri": "https://localhost:8080/",
          "height": 246
        },
        "outputId": "633cdb50-766d-47aa-ddd5-375c2dba4646"
      },
      "source": [
        "df.info()\n",
        "df.shape\n",
        "df.columns.values"
      ],
      "execution_count": 7,
      "outputs": [
        {
          "output_type": "stream",
          "text": [
            "<class 'pandas.core.frame.DataFrame'>\n",
            "Index: 2518 entries, 04/17/2020 to 04/19/2010\n",
            "Data columns (total 5 columns):\n",
            " #   Column      Non-Null Count  Dtype  \n",
            "---  ------      --------------  -----  \n",
            " 0   Close/Last  2518 non-null   float64\n",
            " 1   Volume      2518 non-null   float64\n",
            " 2   Open        2518 non-null   float64\n",
            " 3   High        2518 non-null   float64\n",
            " 4   Low         2518 non-null   float64\n",
            "dtypes: float64(5)\n",
            "memory usage: 198.0+ KB\n"
          ],
          "name": "stdout"
        },
        {
          "output_type": "execute_result",
          "data": {
            "text/plain": [
              "array(['Close/Last', 'Volume', 'Open', 'High', 'Low'], dtype=object)"
            ]
          },
          "metadata": {
            "tags": []
          },
          "execution_count": 7
        }
      ]
    },
    {
      "cell_type": "code",
      "metadata": {
        "id": "3veRON33aFbb",
        "colab_type": "code",
        "colab": {
          "base_uri": "https://localhost:8080/",
          "height": 233
        },
        "outputId": "aac6b09b-c27d-4e12-ee26-8c0b7fdfcedf"
      },
      "source": [
        "df_train = df.tail(2338)\n",
        "df_train.head()"
      ],
      "execution_count": 14,
      "outputs": [
        {
          "output_type": "execute_result",
          "data": {
            "text/html": [
              "<div>\n",
              "<style scoped>\n",
              "    .dataframe tbody tr th:only-of-type {\n",
              "        vertical-align: middle;\n",
              "    }\n",
              "\n",
              "    .dataframe tbody tr th {\n",
              "        vertical-align: top;\n",
              "    }\n",
              "\n",
              "    .dataframe thead th {\n",
              "        text-align: right;\n",
              "    }\n",
              "</style>\n",
              "<table border=\"1\" class=\"dataframe\">\n",
              "  <thead>\n",
              "    <tr style=\"text-align: right;\">\n",
              "      <th></th>\n",
              "      <th>Close/Last</th>\n",
              "      <th>Volume</th>\n",
              "      <th>Open</th>\n",
              "      <th>High</th>\n",
              "      <th>Low</th>\n",
              "    </tr>\n",
              "    <tr>\n",
              "      <th>Date</th>\n",
              "      <th></th>\n",
              "      <th></th>\n",
              "      <th></th>\n",
              "      <th></th>\n",
              "      <th></th>\n",
              "    </tr>\n",
              "  </thead>\n",
              "  <tbody>\n",
              "    <tr>\n",
              "      <th>07/31/2019</th>\n",
              "      <td>213.04</td>\n",
              "      <td>69281360.0</td>\n",
              "      <td>216.42</td>\n",
              "      <td>221.37</td>\n",
              "      <td>211.30</td>\n",
              "    </tr>\n",
              "    <tr>\n",
              "      <th>07/30/2019</th>\n",
              "      <td>208.78</td>\n",
              "      <td>33935720.0</td>\n",
              "      <td>208.76</td>\n",
              "      <td>210.16</td>\n",
              "      <td>207.31</td>\n",
              "    </tr>\n",
              "    <tr>\n",
              "      <th>07/29/2019</th>\n",
              "      <td>209.68</td>\n",
              "      <td>21673390.0</td>\n",
              "      <td>208.46</td>\n",
              "      <td>210.64</td>\n",
              "      <td>208.44</td>\n",
              "    </tr>\n",
              "    <tr>\n",
              "      <th>07/26/2019</th>\n",
              "      <td>207.74</td>\n",
              "      <td>17618870.0</td>\n",
              "      <td>207.48</td>\n",
              "      <td>209.73</td>\n",
              "      <td>207.14</td>\n",
              "    </tr>\n",
              "    <tr>\n",
              "      <th>07/25/2019</th>\n",
              "      <td>207.02</td>\n",
              "      <td>13909560.0</td>\n",
              "      <td>208.89</td>\n",
              "      <td>209.24</td>\n",
              "      <td>206.73</td>\n",
              "    </tr>\n",
              "  </tbody>\n",
              "</table>\n",
              "</div>"
            ],
            "text/plain": [
              "            Close/Last      Volume    Open    High     Low\n",
              "Date                                                      \n",
              "07/31/2019      213.04  69281360.0  216.42  221.37  211.30\n",
              "07/30/2019      208.78  33935720.0  208.76  210.16  207.31\n",
              "07/29/2019      209.68  21673390.0  208.46  210.64  208.44\n",
              "07/26/2019      207.74  17618870.0  207.48  209.73  207.14\n",
              "07/25/2019      207.02  13909560.0  208.89  209.24  206.73"
            ]
          },
          "metadata": {
            "tags": []
          },
          "execution_count": 14
        }
      ]
    },
    {
      "cell_type": "code",
      "metadata": {
        "id": "8dhdrJOtaHHE",
        "colab_type": "code",
        "colab": {
          "base_uri": "https://localhost:8080/",
          "height": 233
        },
        "outputId": "e117ef5a-8385-4a24-ddd6-fe00b870011f"
      },
      "source": [
        "df_test = df.head(180)\n",
        "df_test.head()"
      ],
      "execution_count": 15,
      "outputs": [
        {
          "output_type": "execute_result",
          "data": {
            "text/html": [
              "<div>\n",
              "<style scoped>\n",
              "    .dataframe tbody tr th:only-of-type {\n",
              "        vertical-align: middle;\n",
              "    }\n",
              "\n",
              "    .dataframe tbody tr th {\n",
              "        vertical-align: top;\n",
              "    }\n",
              "\n",
              "    .dataframe thead th {\n",
              "        text-align: right;\n",
              "    }\n",
              "</style>\n",
              "<table border=\"1\" class=\"dataframe\">\n",
              "  <thead>\n",
              "    <tr style=\"text-align: right;\">\n",
              "      <th></th>\n",
              "      <th>Close/Last</th>\n",
              "      <th>Volume</th>\n",
              "      <th>Open</th>\n",
              "      <th>High</th>\n",
              "      <th>Low</th>\n",
              "    </tr>\n",
              "    <tr>\n",
              "      <th>Date</th>\n",
              "      <th></th>\n",
              "      <th></th>\n",
              "      <th></th>\n",
              "      <th></th>\n",
              "      <th></th>\n",
              "    </tr>\n",
              "  </thead>\n",
              "  <tbody>\n",
              "    <tr>\n",
              "      <th>04/17/2020</th>\n",
              "      <td>282.80</td>\n",
              "      <td>53812480.0</td>\n",
              "      <td>284.69</td>\n",
              "      <td>286.9450</td>\n",
              "      <td>276.8600</td>\n",
              "    </tr>\n",
              "    <tr>\n",
              "      <th>04/16/2020</th>\n",
              "      <td>286.69</td>\n",
              "      <td>39281290.0</td>\n",
              "      <td>287.38</td>\n",
              "      <td>288.1975</td>\n",
              "      <td>282.3502</td>\n",
              "    </tr>\n",
              "    <tr>\n",
              "      <th>04/15/2020</th>\n",
              "      <td>284.43</td>\n",
              "      <td>32788640.0</td>\n",
              "      <td>282.40</td>\n",
              "      <td>286.3300</td>\n",
              "      <td>280.6300</td>\n",
              "    </tr>\n",
              "    <tr>\n",
              "      <th>04/14/2020</th>\n",
              "      <td>287.05</td>\n",
              "      <td>48748670.0</td>\n",
              "      <td>280.00</td>\n",
              "      <td>288.2500</td>\n",
              "      <td>278.0500</td>\n",
              "    </tr>\n",
              "    <tr>\n",
              "      <th>04/13/2020</th>\n",
              "      <td>273.25</td>\n",
              "      <td>32755730.0</td>\n",
              "      <td>268.31</td>\n",
              "      <td>273.7000</td>\n",
              "      <td>265.8300</td>\n",
              "    </tr>\n",
              "  </tbody>\n",
              "</table>\n",
              "</div>"
            ],
            "text/plain": [
              "            Close/Last      Volume    Open      High       Low\n",
              "Date                                                          \n",
              "04/17/2020      282.80  53812480.0  284.69  286.9450  276.8600\n",
              "04/16/2020      286.69  39281290.0  287.38  288.1975  282.3502\n",
              "04/15/2020      284.43  32788640.0  282.40  286.3300  280.6300\n",
              "04/14/2020      287.05  48748670.0  280.00  288.2500  278.0500\n",
              "04/13/2020      273.25  32755730.0  268.31  273.7000  265.8300"
            ]
          },
          "metadata": {
            "tags": []
          },
          "execution_count": 15
        }
      ]
    },
    {
      "cell_type": "code",
      "metadata": {
        "id": "vIL1GLR6dzE0",
        "colab_type": "code",
        "colab": {
          "base_uri": "https://localhost:8080/",
          "height": 35
        },
        "outputId": "b402ef07-852d-465f-cc64-e9dd51b60839"
      },
      "source": [
        ""
      ],
      "execution_count": 13,
      "outputs": [
        {
          "output_type": "execute_result",
          "data": {
            "text/plain": [
              "2338"
            ]
          },
          "metadata": {
            "tags": []
          },
          "execution_count": 13
        }
      ]
    },
    {
      "cell_type": "markdown",
      "metadata": {
        "id": "zFtx-YycjODB",
        "colab_type": "text"
      },
      "source": [
        ""
      ]
    },
    {
      "cell_type": "code",
      "metadata": {
        "id": "mYPjMlx4aKd_",
        "colab_type": "code",
        "colab": {
          "base_uri": "https://localhost:8080/",
          "height": 35
        },
        "outputId": "87fc9196-21bd-417d-9ac7-e688a8790748"
      },
      "source": [
        "# Data Cleaning\n",
        "df.isna().any()\n",
        "\n",
        "# Feature Scaling Normalization\n",
        "scaler = MinMaxScaler()\n",
        "training_set_scaled = scaler.fit_transform(df_train)\n",
        "\n",
        "X_train, y_train = [],[]\n",
        "\n",
        "for i in range(60, df_train.shape[0]):\n",
        "    X_train.append(training_set_scaled[i-60:i])\n",
        "    y_train.append(training_set_scaled[i, 0])\n",
        "\n",
        "X_train, y_train = np.array(X_train), np.array(y_train)\n",
        "\n",
        "X_train.shape, y_train.shape"
      ],
      "execution_count": 137,
      "outputs": [
        {
          "output_type": "execute_result",
          "data": {
            "text/plain": [
              "((2278, 60, 5), (2278,))"
            ]
          },
          "metadata": {
            "tags": []
          },
          "execution_count": 137
        }
      ]
    },
    {
      "cell_type": "code",
      "metadata": {
        "id": "wOK2yZggaVVt",
        "colab_type": "code",
        "colab": {
          "base_uri": "https://localhost:8080/",
          "height": 1000
        },
        "outputId": "d22e6814-70d7-45c3-c13d-493963ad51c0"
      },
      "source": [
        "# RNN\n",
        "regressor = Sequential()\n",
        "\n",
        "# Adding a LSTM layer and some Dropout regularisation\n",
        "regressor.add(LSTM(units = 60, activation = 'relu', return_sequences = True, input_shape = (X_train.shape[1], 5)))\n",
        "regressor.add(Dropout(0.2))\n",
        "\n",
        "# Adding a second LSTM layer and some Dropout regularisation\n",
        "regressor.add(LSTM(units = 60, activation = 'relu', return_sequences = True))\n",
        "regressor.add(Dropout(0.2))\n",
        "\n",
        "# Adding a third LSTM layer and some Dropout regularisation\n",
        "regressor.add(LSTM(units = 80, return_sequences = True))\n",
        "regressor.add(Dropout(0.2))\n",
        "\n",
        "# Adding a fourth LSTM layer and some Dropout regularisation\n",
        "regressor.add(LSTM(units = 80, activation = 'relu'))\n",
        "regressor.add(Dropout(0.2))\n",
        " \n",
        "# Adding the output layer\n",
        "regressor.add(Dense(units = 1))\n",
        "\n",
        "# Compiling the RNN\n",
        "regressor.compile(optimizer = 'adam', loss = 'mean_squared_error')\n",
        "\n",
        "# Fitting the RNN to the Training set\n",
        "regressor.fit(X_train, y_train, epochs = 100, batch_size = 32)"
      ],
      "execution_count": 138,
      "outputs": [
        {
          "output_type": "stream",
          "text": [
            "Epoch 1/100\n",
            "2278/2278 [==============================] - 13s 6ms/step - loss: 0.0251\n",
            "Epoch 2/100\n",
            "2278/2278 [==============================] - 12s 5ms/step - loss: 0.0046\n",
            "Epoch 3/100\n",
            "2278/2278 [==============================] - 12s 5ms/step - loss: 0.0036\n",
            "Epoch 4/100\n",
            "2278/2278 [==============================] - 12s 5ms/step - loss: 0.0035\n",
            "Epoch 5/100\n",
            "2278/2278 [==============================] - 12s 5ms/step - loss: 0.0033\n",
            "Epoch 6/100\n",
            "2278/2278 [==============================] - 12s 5ms/step - loss: 0.0033\n",
            "Epoch 7/100\n",
            "2278/2278 [==============================] - 12s 5ms/step - loss: 0.0029\n",
            "Epoch 8/100\n",
            "2278/2278 [==============================] - 12s 5ms/step - loss: 0.0027\n",
            "Epoch 9/100\n",
            "2278/2278 [==============================] - 12s 5ms/step - loss: 0.0033\n",
            "Epoch 10/100\n",
            "2278/2278 [==============================] - 12s 5ms/step - loss: 0.0028\n",
            "Epoch 11/100\n",
            "2278/2278 [==============================] - 12s 5ms/step - loss: 0.0027\n",
            "Epoch 12/100\n",
            "2278/2278 [==============================] - 12s 5ms/step - loss: 0.0024\n",
            "Epoch 13/100\n",
            "2278/2278 [==============================] - 12s 5ms/step - loss: 0.0021\n",
            "Epoch 14/100\n",
            "2278/2278 [==============================] - 12s 5ms/step - loss: 0.0023\n",
            "Epoch 15/100\n",
            "2278/2278 [==============================] - 12s 5ms/step - loss: 0.0021\n",
            "Epoch 16/100\n",
            "2278/2278 [==============================] - 12s 5ms/step - loss: 0.0022\n",
            "Epoch 17/100\n",
            "2278/2278 [==============================] - 12s 5ms/step - loss: 0.0019\n",
            "Epoch 18/100\n",
            "2278/2278 [==============================] - 12s 5ms/step - loss: 0.0019\n",
            "Epoch 19/100\n",
            "2278/2278 [==============================] - 12s 5ms/step - loss: 0.0022\n",
            "Epoch 20/100\n",
            "2278/2278 [==============================] - 12s 5ms/step - loss: 0.0017\n",
            "Epoch 21/100\n",
            "2278/2278 [==============================] - 12s 5ms/step - loss: 0.0017\n",
            "Epoch 22/100\n",
            "2278/2278 [==============================] - 12s 5ms/step - loss: 0.0020\n",
            "Epoch 23/100\n",
            "2278/2278 [==============================] - 12s 5ms/step - loss: 0.0017\n",
            "Epoch 24/100\n",
            "2278/2278 [==============================] - 12s 5ms/step - loss: 0.0014\n",
            "Epoch 25/100\n",
            "2278/2278 [==============================] - 12s 5ms/step - loss: 0.0017\n",
            "Epoch 26/100\n",
            "2278/2278 [==============================] - 12s 5ms/step - loss: 0.0018\n",
            "Epoch 27/100\n",
            "2278/2278 [==============================] - 12s 5ms/step - loss: 0.0017\n",
            "Epoch 28/100\n",
            "2278/2278 [==============================] - 12s 5ms/step - loss: 0.0016\n",
            "Epoch 29/100\n",
            "2278/2278 [==============================] - 12s 5ms/step - loss: 0.0013\n",
            "Epoch 30/100\n",
            "2278/2278 [==============================] - 12s 5ms/step - loss: 0.0015\n",
            "Epoch 31/100\n",
            "2278/2278 [==============================] - 12s 5ms/step - loss: 0.0015\n",
            "Epoch 32/100\n",
            "2278/2278 [==============================] - 12s 5ms/step - loss: 0.0014\n",
            "Epoch 33/100\n",
            "2278/2278 [==============================] - 12s 5ms/step - loss: 0.0014\n",
            "Epoch 34/100\n",
            "2278/2278 [==============================] - 12s 5ms/step - loss: 0.0016\n",
            "Epoch 35/100\n",
            "2278/2278 [==============================] - 12s 5ms/step - loss: 0.0014\n",
            "Epoch 36/100\n",
            "2278/2278 [==============================] - 12s 5ms/step - loss: 0.0012\n",
            "Epoch 37/100\n",
            "2278/2278 [==============================] - 12s 5ms/step - loss: 0.0013\n",
            "Epoch 38/100\n",
            "2278/2278 [==============================] - 12s 5ms/step - loss: 0.0014\n",
            "Epoch 39/100\n",
            "2278/2278 [==============================] - 12s 5ms/step - loss: 0.0013\n",
            "Epoch 40/100\n",
            "2278/2278 [==============================] - 12s 5ms/step - loss: 0.0012\n",
            "Epoch 41/100\n",
            "2278/2278 [==============================] - 12s 5ms/step - loss: 0.0010\n",
            "Epoch 42/100\n",
            "2278/2278 [==============================] - 12s 5ms/step - loss: 0.0012\n",
            "Epoch 43/100\n",
            "2278/2278 [==============================] - 12s 5ms/step - loss: 0.0011\n",
            "Epoch 44/100\n",
            "2278/2278 [==============================] - 12s 5ms/step - loss: 0.0012\n",
            "Epoch 45/100\n",
            "2278/2278 [==============================] - 12s 5ms/step - loss: 0.0010\n",
            "Epoch 46/100\n",
            "2278/2278 [==============================] - 12s 5ms/step - loss: 0.0011\n",
            "Epoch 47/100\n",
            "2278/2278 [==============================] - 12s 5ms/step - loss: 0.0012\n",
            "Epoch 48/100\n",
            "2278/2278 [==============================] - 12s 5ms/step - loss: 0.0011\n",
            "Epoch 49/100\n",
            "2278/2278 [==============================] - 12s 5ms/step - loss: 0.0010\n",
            "Epoch 50/100\n",
            "2278/2278 [==============================] - 12s 5ms/step - loss: 9.9937e-04\n",
            "Epoch 51/100\n",
            "2278/2278 [==============================] - 12s 5ms/step - loss: 0.0010\n",
            "Epoch 52/100\n",
            "2278/2278 [==============================] - 12s 5ms/step - loss: 9.4806e-04\n",
            "Epoch 53/100\n",
            "2278/2278 [==============================] - 12s 5ms/step - loss: 0.0010\n",
            "Epoch 54/100\n",
            "2278/2278 [==============================] - 16s 7ms/step - loss: 9.2614e-04\n",
            "Epoch 55/100\n",
            "2278/2278 [==============================] - 12s 5ms/step - loss: 9.7235e-04\n",
            "Epoch 56/100\n",
            "2278/2278 [==============================] - 12s 5ms/step - loss: 0.0011\n",
            "Epoch 57/100\n",
            "2278/2278 [==============================] - 12s 5ms/step - loss: 9.6914e-04\n",
            "Epoch 58/100\n",
            "2278/2278 [==============================] - 12s 5ms/step - loss: 9.1566e-04\n",
            "Epoch 59/100\n",
            "2278/2278 [==============================] - 12s 5ms/step - loss: 9.5198e-04\n",
            "Epoch 60/100\n",
            "2278/2278 [==============================] - 12s 5ms/step - loss: 9.3800e-04\n",
            "Epoch 61/100\n",
            "2278/2278 [==============================] - 12s 5ms/step - loss: 9.1392e-04\n",
            "Epoch 62/100\n",
            "2278/2278 [==============================] - 12s 5ms/step - loss: 8.9265e-04\n",
            "Epoch 63/100\n",
            "2278/2278 [==============================] - 12s 5ms/step - loss: 0.0010\n",
            "Epoch 64/100\n",
            "2278/2278 [==============================] - 12s 5ms/step - loss: 0.0010\n",
            "Epoch 65/100\n",
            "2278/2278 [==============================] - 12s 5ms/step - loss: 9.6125e-04\n",
            "Epoch 66/100\n",
            "2278/2278 [==============================] - 12s 5ms/step - loss: 8.8658e-04\n",
            "Epoch 67/100\n",
            "2278/2278 [==============================] - 12s 5ms/step - loss: 9.9843e-04\n",
            "Epoch 68/100\n",
            "2278/2278 [==============================] - 12s 5ms/step - loss: 8.4549e-04\n",
            "Epoch 69/100\n",
            "2278/2278 [==============================] - 12s 5ms/step - loss: 8.6357e-04\n",
            "Epoch 70/100\n",
            "2278/2278 [==============================] - 12s 5ms/step - loss: 0.0011\n",
            "Epoch 71/100\n",
            "2278/2278 [==============================] - 12s 5ms/step - loss: 9.2268e-04\n",
            "Epoch 72/100\n",
            "2278/2278 [==============================] - 12s 5ms/step - loss: 0.0010\n",
            "Epoch 73/100\n",
            "2278/2278 [==============================] - 12s 5ms/step - loss: 9.0552e-04\n",
            "Epoch 74/100\n",
            "2278/2278 [==============================] - 12s 5ms/step - loss: 9.3171e-04\n",
            "Epoch 75/100\n",
            "2278/2278 [==============================] - 12s 5ms/step - loss: 0.0010\n",
            "Epoch 76/100\n",
            "2278/2278 [==============================] - 12s 5ms/step - loss: 8.6090e-04\n",
            "Epoch 77/100\n",
            "2278/2278 [==============================] - 12s 5ms/step - loss: 9.0912e-04\n",
            "Epoch 78/100\n",
            "2278/2278 [==============================] - 12s 5ms/step - loss: 8.8472e-04\n",
            "Epoch 79/100\n",
            "2278/2278 [==============================] - 12s 5ms/step - loss: 0.0010\n",
            "Epoch 80/100\n",
            "2278/2278 [==============================] - 12s 5ms/step - loss: 8.9348e-04\n",
            "Epoch 81/100\n",
            "2278/2278 [==============================] - 12s 5ms/step - loss: 9.5593e-04\n",
            "Epoch 82/100\n",
            "2278/2278 [==============================] - 12s 5ms/step - loss: 7.8935e-04\n",
            "Epoch 83/100\n",
            "2278/2278 [==============================] - 12s 5ms/step - loss: 0.0010\n",
            "Epoch 84/100\n",
            "2278/2278 [==============================] - 12s 5ms/step - loss: 9.5278e-04\n",
            "Epoch 85/100\n",
            "2278/2278 [==============================] - 12s 5ms/step - loss: 8.8209e-04\n",
            "Epoch 86/100\n",
            "2278/2278 [==============================] - 12s 5ms/step - loss: 9.1562e-04\n",
            "Epoch 87/100\n",
            "2278/2278 [==============================] - 12s 5ms/step - loss: 7.9549e-04\n",
            "Epoch 88/100\n",
            "2278/2278 [==============================] - 12s 5ms/step - loss: 8.5271e-04\n",
            "Epoch 89/100\n",
            "2278/2278 [==============================] - 12s 5ms/step - loss: 8.7268e-04\n",
            "Epoch 90/100\n",
            "2278/2278 [==============================] - 12s 5ms/step - loss: 9.4656e-04\n",
            "Epoch 91/100\n",
            "2278/2278 [==============================] - 12s 5ms/step - loss: 9.0488e-04\n",
            "Epoch 92/100\n",
            "2278/2278 [==============================] - 12s 5ms/step - loss: 9.8630e-04\n",
            "Epoch 93/100\n",
            "2278/2278 [==============================] - 12s 5ms/step - loss: 8.4136e-04\n",
            "Epoch 94/100\n",
            "2278/2278 [==============================] - 12s 5ms/step - loss: 8.3888e-04\n",
            "Epoch 95/100\n",
            "2278/2278 [==============================] - 12s 5ms/step - loss: 7.9697e-04\n",
            "Epoch 96/100\n",
            "2278/2278 [==============================] - 12s 5ms/step - loss: 8.4199e-04\n",
            "Epoch 97/100\n",
            "2278/2278 [==============================] - 12s 5ms/step - loss: 8.2464e-04\n",
            "Epoch 98/100\n",
            "2278/2278 [==============================] - 12s 5ms/step - loss: 8.7267e-04\n",
            "Epoch 99/100\n",
            "2278/2278 [==============================] - 12s 5ms/step - loss: 8.1626e-04\n",
            "Epoch 100/100\n",
            "2278/2278 [==============================] - 12s 5ms/step - loss: 7.9864e-04\n"
          ],
          "name": "stdout"
        },
        {
          "output_type": "execute_result",
          "data": {
            "text/plain": [
              "<keras.callbacks.callbacks.History at 0x7fe3a61d11d0>"
            ]
          },
          "metadata": {
            "tags": []
          },
          "execution_count": 138
        }
      ]
    },
    {
      "cell_type": "code",
      "metadata": {
        "id": "Zoclm7-ghA5t",
        "colab_type": "code",
        "colab": {
          "base_uri": "https://localhost:8080/",
          "height": 475
        },
        "outputId": "2ab3233c-983b-4ed6-e46e-c16a1fc7d54c"
      },
      "source": [
        "regressor.summary()"
      ],
      "execution_count": 139,
      "outputs": [
        {
          "output_type": "stream",
          "text": [
            "Model: \"sequential_10\"\n",
            "_________________________________________________________________\n",
            "Layer (type)                 Output Shape              Param #   \n",
            "=================================================================\n",
            "lstm_37 (LSTM)               (None, 60, 60)            15840     \n",
            "_________________________________________________________________\n",
            "dropout_37 (Dropout)         (None, 60, 60)            0         \n",
            "_________________________________________________________________\n",
            "lstm_38 (LSTM)               (None, 60, 60)            29040     \n",
            "_________________________________________________________________\n",
            "dropout_38 (Dropout)         (None, 60, 60)            0         \n",
            "_________________________________________________________________\n",
            "lstm_39 (LSTM)               (None, 60, 80)            45120     \n",
            "_________________________________________________________________\n",
            "dropout_39 (Dropout)         (None, 60, 80)            0         \n",
            "_________________________________________________________________\n",
            "lstm_40 (LSTM)               (None, 80)                51520     \n",
            "_________________________________________________________________\n",
            "dropout_40 (Dropout)         (None, 80)                0         \n",
            "_________________________________________________________________\n",
            "dense_10 (Dense)             (None, 1)                 81        \n",
            "=================================================================\n",
            "Total params: 141,601\n",
            "Trainable params: 141,601\n",
            "Non-trainable params: 0\n",
            "_________________________________________________________________\n"
          ],
          "name": "stdout"
        }
      ]
    },
    {
      "cell_type": "code",
      "metadata": {
        "id": "5XvzvZDzeSaF",
        "colab_type": "code",
        "colab": {
          "base_uri": "https://localhost:8080/",
          "height": 233
        },
        "outputId": "ea73dcf0-4227-435d-a556-a353fc8c23c2"
      },
      "source": [
        "df_test.head()\n"
      ],
      "execution_count": 140,
      "outputs": [
        {
          "output_type": "execute_result",
          "data": {
            "text/html": [
              "<div>\n",
              "<style scoped>\n",
              "    .dataframe tbody tr th:only-of-type {\n",
              "        vertical-align: middle;\n",
              "    }\n",
              "\n",
              "    .dataframe tbody tr th {\n",
              "        vertical-align: top;\n",
              "    }\n",
              "\n",
              "    .dataframe thead th {\n",
              "        text-align: right;\n",
              "    }\n",
              "</style>\n",
              "<table border=\"1\" class=\"dataframe\">\n",
              "  <thead>\n",
              "    <tr style=\"text-align: right;\">\n",
              "      <th></th>\n",
              "      <th>Close/Last</th>\n",
              "      <th>Volume</th>\n",
              "      <th>Open</th>\n",
              "      <th>High</th>\n",
              "      <th>Low</th>\n",
              "    </tr>\n",
              "    <tr>\n",
              "      <th>Date</th>\n",
              "      <th></th>\n",
              "      <th></th>\n",
              "      <th></th>\n",
              "      <th></th>\n",
              "      <th></th>\n",
              "    </tr>\n",
              "  </thead>\n",
              "  <tbody>\n",
              "    <tr>\n",
              "      <th>04/17/2020</th>\n",
              "      <td>282.80</td>\n",
              "      <td>53812480.0</td>\n",
              "      <td>284.69</td>\n",
              "      <td>286.9450</td>\n",
              "      <td>276.8600</td>\n",
              "    </tr>\n",
              "    <tr>\n",
              "      <th>04/16/2020</th>\n",
              "      <td>286.69</td>\n",
              "      <td>39281290.0</td>\n",
              "      <td>287.38</td>\n",
              "      <td>288.1975</td>\n",
              "      <td>282.3502</td>\n",
              "    </tr>\n",
              "    <tr>\n",
              "      <th>04/15/2020</th>\n",
              "      <td>284.43</td>\n",
              "      <td>32788640.0</td>\n",
              "      <td>282.40</td>\n",
              "      <td>286.3300</td>\n",
              "      <td>280.6300</td>\n",
              "    </tr>\n",
              "    <tr>\n",
              "      <th>04/14/2020</th>\n",
              "      <td>287.05</td>\n",
              "      <td>48748670.0</td>\n",
              "      <td>280.00</td>\n",
              "      <td>288.2500</td>\n",
              "      <td>278.0500</td>\n",
              "    </tr>\n",
              "    <tr>\n",
              "      <th>04/13/2020</th>\n",
              "      <td>273.25</td>\n",
              "      <td>32755730.0</td>\n",
              "      <td>268.31</td>\n",
              "      <td>273.7000</td>\n",
              "      <td>265.8300</td>\n",
              "    </tr>\n",
              "  </tbody>\n",
              "</table>\n",
              "</div>"
            ],
            "text/plain": [
              "            Close/Last      Volume    Open      High       Low\n",
              "Date                                                          \n",
              "04/17/2020      282.80  53812480.0  284.69  286.9450  276.8600\n",
              "04/16/2020      286.69  39281290.0  287.38  288.1975  282.3502\n",
              "04/15/2020      284.43  32788640.0  282.40  286.3300  280.6300\n",
              "04/14/2020      287.05  48748670.0  280.00  288.2500  278.0500\n",
              "04/13/2020      273.25  32755730.0  268.31  273.7000  265.8300"
            ]
          },
          "metadata": {
            "tags": []
          },
          "execution_count": 140
        }
      ]
    },
    {
      "cell_type": "code",
      "metadata": {
        "id": "31BwbXiUh5kK",
        "colab_type": "code",
        "colab": {
          "base_uri": "https://localhost:8080/",
          "height": 203
        },
        "outputId": "6f32bab9-0afc-4244-fee2-c3c796816fdf"
      },
      "source": [
        "past_60days = df_train.tail(60)\n",
        "df = past_60days.append(df_test, ignore_index = True)\n",
        "df.head()"
      ],
      "execution_count": 141,
      "outputs": [
        {
          "output_type": "execute_result",
          "data": {
            "text/html": [
              "<div>\n",
              "<style scoped>\n",
              "    .dataframe tbody tr th:only-of-type {\n",
              "        vertical-align: middle;\n",
              "    }\n",
              "\n",
              "    .dataframe tbody tr th {\n",
              "        vertical-align: top;\n",
              "    }\n",
              "\n",
              "    .dataframe thead th {\n",
              "        text-align: right;\n",
              "    }\n",
              "</style>\n",
              "<table border=\"1\" class=\"dataframe\">\n",
              "  <thead>\n",
              "    <tr style=\"text-align: right;\">\n",
              "      <th></th>\n",
              "      <th>Close/Last</th>\n",
              "      <th>Volume</th>\n",
              "      <th>Open</th>\n",
              "      <th>High</th>\n",
              "      <th>Low</th>\n",
              "    </tr>\n",
              "  </thead>\n",
              "  <tbody>\n",
              "    <tr>\n",
              "      <th>0</th>\n",
              "      <td>35.9711</td>\n",
              "      <td>296797219.0</td>\n",
              "      <td>36.6171</td>\n",
              "      <td>36.6286</td>\n",
              "      <td>35.2043</td>\n",
              "    </tr>\n",
              "    <tr>\n",
              "      <th>1</th>\n",
              "      <td>36.7550</td>\n",
              "      <td>140474992.0</td>\n",
              "      <td>36.9328</td>\n",
              "      <td>37.4071</td>\n",
              "      <td>36.4086</td>\n",
              "    </tr>\n",
              "    <tr>\n",
              "      <th>2</th>\n",
              "      <td>37.0886</td>\n",
              "      <td>108260072.0</td>\n",
              "      <td>36.6986</td>\n",
              "      <td>37.1286</td>\n",
              "      <td>36.4514</td>\n",
              "    </tr>\n",
              "    <tr>\n",
              "      <th>3</th>\n",
              "      <td>36.8700</td>\n",
              "      <td>184252935.0</td>\n",
              "      <td>37.4971</td>\n",
              "      <td>37.5571</td>\n",
              "      <td>36.4128</td>\n",
              "    </tr>\n",
              "    <tr>\n",
              "      <th>4</th>\n",
              "      <td>36.9521</td>\n",
              "      <td>163169979.0</td>\n",
              "      <td>35.7843</td>\n",
              "      <td>36.9671</td>\n",
              "      <td>35.6786</td>\n",
              "    </tr>\n",
              "  </tbody>\n",
              "</table>\n",
              "</div>"
            ],
            "text/plain": [
              "   Close/Last       Volume     Open     High      Low\n",
              "0     35.9711  296797219.0  36.6171  36.6286  35.2043\n",
              "1     36.7550  140474992.0  36.9328  37.4071  36.4086\n",
              "2     37.0886  108260072.0  36.6986  37.1286  36.4514\n",
              "3     36.8700  184252935.0  37.4971  37.5571  36.4128\n",
              "4     36.9521  163169979.0  35.7843  36.9671  35.6786"
            ]
          },
          "metadata": {
            "tags": []
          },
          "execution_count": 141
        }
      ]
    },
    {
      "cell_type": "code",
      "metadata": {
        "id": "otzTPTArjFTE",
        "colab_type": "code",
        "colab": {
          "base_uri": "https://localhost:8080/",
          "height": 246
        },
        "outputId": "a67326ac-6540-4047-cde7-6589a3dea79b"
      },
      "source": [
        "scaler = StandardScaler()\n",
        "inputs = scaler.fit_transform(df)\n",
        "inputs"
      ],
      "execution_count": 142,
      "outputs": [
        {
          "output_type": "execute_result",
          "data": {
            "text/plain": [
              "array([[-1.64828431e+00,  2.85532687e+00, -1.64433473e+00,\n",
              "        -1.64808360e+00, -1.65011342e+00],\n",
              "       [-1.64059761e+00,  8.30287012e-01, -1.64122564e+00,\n",
              "        -1.64052047e+00, -1.63814914e+00],\n",
              "       [-1.63732643e+00,  4.12966337e-01, -1.64353210e+00,\n",
              "        -1.64322610e+00, -1.63772394e+00],\n",
              "       ...,\n",
              "       [-1.05171328e-01, -3.10751017e-01, -5.50938114e-02,\n",
              "        -7.40568664e-02, -8.66435937e-02],\n",
              "       [-4.46400626e-04, -4.60124727e-01,  1.91620058e-02,\n",
              "         1.53547862e-03,  3.26483500e-03],\n",
              "       [ 4.27967576e-02, -2.89700981e-01,  1.01591872e-01,\n",
              "         1.14229374e-01,  5.40655809e-02]])"
            ]
          },
          "metadata": {
            "tags": []
          },
          "execution_count": 142
        }
      ]
    },
    {
      "cell_type": "code",
      "metadata": {
        "id": "49fb3S-sj1bs",
        "colab_type": "code",
        "colab": {}
      },
      "source": [
        "x_test = []\n",
        "y_test = []\n",
        "\n",
        "for i in range(60, inputs.shape[0]):\n",
        "  x_test.append(inputs[i-60:i])\n",
        "  y_test.append(inputs[i,0])\n",
        "x_test, y_test = np.array(x_test), np.array(y_test)"
      ],
      "execution_count": 0,
      "outputs": []
    },
    {
      "cell_type": "code",
      "metadata": {
        "id": "56gefw6imkz_",
        "colab_type": "code",
        "colab": {
          "base_uri": "https://localhost:8080/",
          "height": 35
        },
        "outputId": "defe9698-ac5b-4729-df25-0696f74aa33f"
      },
      "source": [
        "x_test.shape, y_test.shape"
      ],
      "execution_count": 144,
      "outputs": [
        {
          "output_type": "execute_result",
          "data": {
            "text/plain": [
              "((180, 60, 5), (180,))"
            ]
          },
          "metadata": {
            "tags": []
          },
          "execution_count": 144
        }
      ]
    },
    {
      "cell_type": "code",
      "metadata": {
        "id": "i5mDG9CzmxmV",
        "colab_type": "code",
        "colab": {
          "base_uri": "https://localhost:8080/",
          "height": 1000
        },
        "outputId": "ad09abd5-d80f-49d6-a212-7ea1db0df2e3"
      },
      "source": [
        "y_pred = regressor.predict(x_test)\n",
        "y_pred"
      ],
      "execution_count": 145,
      "outputs": [
        {
          "output_type": "execute_result",
          "data": {
            "text/plain": [
              "array([[0.0042561 ],\n",
              "       [0.3886651 ],\n",
              "       [0.8659574 ],\n",
              "       [0.9382242 ],\n",
              "       [1.0250976 ],\n",
              "       [1.0537621 ],\n",
              "       [1.0656472 ],\n",
              "       [1.0528884 ],\n",
              "       [1.023769  ],\n",
              "       [0.980716  ],\n",
              "       [0.9261545 ],\n",
              "       [0.86445487],\n",
              "       [0.8017304 ],\n",
              "       [0.7432128 ],\n",
              "       [0.68919563],\n",
              "       [0.6380838 ],\n",
              "       [0.5911423 ],\n",
              "       [0.5489094 ],\n",
              "       [0.51180947],\n",
              "       [0.47811034],\n",
              "       [0.448339  ],\n",
              "       [0.42466682],\n",
              "       [0.4068063 ],\n",
              "       [0.3952179 ],\n",
              "       [0.38825464],\n",
              "       [0.41587102],\n",
              "       [0.4487849 ],\n",
              "       [0.5110615 ],\n",
              "       [0.58792734],\n",
              "       [0.6291735 ],\n",
              "       [0.6650388 ],\n",
              "       [0.7165108 ],\n",
              "       [0.7649286 ],\n",
              "       [0.7844069 ],\n",
              "       [0.77945364],\n",
              "       [0.7536131 ],\n",
              "       [0.723753  ],\n",
              "       [0.7191198 ],\n",
              "       [0.73874605],\n",
              "       [0.7676517 ],\n",
              "       [0.83631706],\n",
              "       [0.91191006],\n",
              "       [0.95948577],\n",
              "       [0.9765575 ],\n",
              "       [0.9967109 ],\n",
              "       [1.0171809 ],\n",
              "       [1.0346347 ],\n",
              "       [1.0486027 ],\n",
              "       [1.0559915 ],\n",
              "       [1.0641575 ],\n",
              "       [1.0746478 ],\n",
              "       [1.0826072 ],\n",
              "       [1.0798295 ],\n",
              "       [1.0661759 ],\n",
              "       [1.0576346 ],\n",
              "       [1.0621014 ],\n",
              "       [1.0654986 ],\n",
              "       [1.0614498 ],\n",
              "       [1.0499908 ],\n",
              "       [1.048544  ],\n",
              "       [1.0513523 ],\n",
              "       [1.0541313 ],\n",
              "       [1.0542926 ],\n",
              "       [1.0521785 ],\n",
              "       [1.0494608 ],\n",
              "       [1.0445622 ],\n",
              "       [1.0396978 ],\n",
              "       [1.0375234 ],\n",
              "       [1.0320513 ],\n",
              "       [1.0221866 ],\n",
              "       [1.0074829 ],\n",
              "       [0.992363  ],\n",
              "       [0.975783  ],\n",
              "       [0.9593873 ],\n",
              "       [0.9453012 ],\n",
              "       [0.9306681 ],\n",
              "       [0.9126414 ],\n",
              "       [0.894873  ],\n",
              "       [0.87961733],\n",
              "       [0.86738074],\n",
              "       [0.85310304],\n",
              "       [0.8294761 ],\n",
              "       [0.8086933 ],\n",
              "       [0.7929644 ],\n",
              "       [0.78212607],\n",
              "       [0.7729057 ],\n",
              "       [0.76096165],\n",
              "       [0.7458148 ],\n",
              "       [0.7324649 ],\n",
              "       [0.72133064],\n",
              "       [0.7108009 ],\n",
              "       [0.7022434 ],\n",
              "       [0.6951754 ],\n",
              "       [0.6885797 ],\n",
              "       [0.6790191 ],\n",
              "       [0.6714095 ],\n",
              "       [0.6700126 ],\n",
              "       [0.6730051 ],\n",
              "       [0.6753756 ],\n",
              "       [0.6763592 ],\n",
              "       [0.6761906 ],\n",
              "       [0.672933  ],\n",
              "       [0.66854966],\n",
              "       [0.6669369 ],\n",
              "       [0.6674441 ],\n",
              "       [0.66754735],\n",
              "       [0.6667435 ],\n",
              "       [0.66437924],\n",
              "       [0.6613107 ],\n",
              "       [0.65793514],\n",
              "       [0.65491587],\n",
              "       [0.65139544],\n",
              "       [0.6475247 ],\n",
              "       [0.6437721 ],\n",
              "       [0.6394067 ],\n",
              "       [0.63073206],\n",
              "       [0.6170989 ],\n",
              "       [0.60057986],\n",
              "       [0.5839318 ],\n",
              "       [0.57141817],\n",
              "       [0.56374466],\n",
              "       [0.5599719 ],\n",
              "       [0.5581449 ],\n",
              "       [0.5562167 ],\n",
              "       [0.55314314],\n",
              "       [0.5477649 ],\n",
              "       [0.54191166],\n",
              "       [0.5361059 ],\n",
              "       [0.5309464 ],\n",
              "       [0.52629995],\n",
              "       [0.5186226 ],\n",
              "       [0.5083654 ],\n",
              "       [0.49804538],\n",
              "       [0.48728096],\n",
              "       [0.47665274],\n",
              "       [0.46599144],\n",
              "       [0.45421708],\n",
              "       [0.4415779 ],\n",
              "       [0.43011597],\n",
              "       [0.42120284],\n",
              "       [0.41425872],\n",
              "       [0.40980488],\n",
              "       [0.40696442],\n",
              "       [0.40390524],\n",
              "       [0.40134382],\n",
              "       [0.39516687],\n",
              "       [0.38986897],\n",
              "       [0.3870169 ],\n",
              "       [0.38762236],\n",
              "       [0.3896856 ],\n",
              "       [0.38925615],\n",
              "       [0.38850522],\n",
              "       [0.38564664],\n",
              "       [0.3805536 ],\n",
              "       [0.37304568],\n",
              "       [0.36394584],\n",
              "       [0.35403928],\n",
              "       [0.3435992 ],\n",
              "       [0.33270675],\n",
              "       [0.3222712 ],\n",
              "       [0.31245422],\n",
              "       [0.30266044],\n",
              "       [0.29162914],\n",
              "       [0.27864242],\n",
              "       [0.26080418],\n",
              "       [0.2459944 ],\n",
              "       [0.23709843],\n",
              "       [0.23247524],\n",
              "       [0.23083612],\n",
              "       [0.22820544],\n",
              "       [0.22149667],\n",
              "       [0.20922224],\n",
              "       [0.1919069 ],\n",
              "       [0.17243493],\n",
              "       [0.15331271],\n",
              "       [0.13576946],\n",
              "       [0.11821586],\n",
              "       [0.10073039],\n",
              "       [0.0836601 ],\n",
              "       [0.0699189 ]], dtype=float32)"
            ]
          },
          "metadata": {
            "tags": []
          },
          "execution_count": 145
        }
      ]
    },
    {
      "cell_type": "code",
      "metadata": {
        "id": "SOcLw9tzuKcy",
        "colab_type": "code",
        "colab": {
          "base_uri": "https://localhost:8080/",
          "height": 52
        },
        "outputId": "eb6b86f9-be22-438a-fa3b-bb99b2f096ab"
      },
      "source": [
        "scaler.scale_"
      ],
      "execution_count": 129,
      "outputs": [
        {
          "output_type": "execute_result",
          "data": {
            "text/plain": [
              "array([1.01981451e+02, 7.71946419e+07, 1.01540866e+02, 1.02933703e+02,\n",
              "       1.00657971e+02])"
            ]
          },
          "metadata": {
            "tags": []
          },
          "execution_count": 129
        }
      ]
    },
    {
      "cell_type": "code",
      "metadata": {
        "id": "7Ag7NSHRvMJ8",
        "colab_type": "code",
        "colab": {
          "base_uri": "https://localhost:8080/",
          "height": 417
        },
        "outputId": "ad02fa4c-607d-490e-f66e-e2ecd373cd67"
      },
      "source": [
        "predicted_stock_price = sc.inverse_transform(y_pred)\n",
        "predicted_stock_price=pd.DataFrame(predicted_stock_price)\n",
        "real_stock_price = df_test.iloc[:, 0:1].values\n",
        "predicted_stock_price"
      ],
      "execution_count": 146,
      "outputs": [
        {
          "output_type": "execute_result",
          "data": {
            "text/html": [
              "<div>\n",
              "<style scoped>\n",
              "    .dataframe tbody tr th:only-of-type {\n",
              "        vertical-align: middle;\n",
              "    }\n",
              "\n",
              "    .dataframe tbody tr th {\n",
              "        vertical-align: top;\n",
              "    }\n",
              "\n",
              "    .dataframe thead th {\n",
              "        text-align: right;\n",
              "    }\n",
              "</style>\n",
              "<table border=\"1\" class=\"dataframe\">\n",
              "  <thead>\n",
              "    <tr style=\"text-align: right;\">\n",
              "      <th></th>\n",
              "      <th>0</th>\n",
              "    </tr>\n",
              "  </thead>\n",
              "  <tbody>\n",
              "    <tr>\n",
              "      <th>0</th>\n",
              "      <td>34.100666</td>\n",
              "    </tr>\n",
              "    <tr>\n",
              "      <th>1</th>\n",
              "      <td>110.029137</td>\n",
              "    </tr>\n",
              "    <tr>\n",
              "      <th>2</th>\n",
              "      <td>204.303894</td>\n",
              "    </tr>\n",
              "    <tr>\n",
              "      <th>3</th>\n",
              "      <td>218.578049</td>\n",
              "    </tr>\n",
              "    <tr>\n",
              "      <th>4</th>\n",
              "      <td>235.737274</td>\n",
              "    </tr>\n",
              "    <tr>\n",
              "      <th>...</th>\n",
              "      <td>...</td>\n",
              "    </tr>\n",
              "    <tr>\n",
              "      <th>175</th>\n",
              "      <td>60.077183</td>\n",
              "    </tr>\n",
              "    <tr>\n",
              "      <th>176</th>\n",
              "      <td>56.609997</td>\n",
              "    </tr>\n",
              "    <tr>\n",
              "      <th>177</th>\n",
              "      <td>53.156265</td>\n",
              "    </tr>\n",
              "    <tr>\n",
              "      <th>178</th>\n",
              "      <td>49.784542</td>\n",
              "    </tr>\n",
              "    <tr>\n",
              "      <th>179</th>\n",
              "      <td>47.070381</td>\n",
              "    </tr>\n",
              "  </tbody>\n",
              "</table>\n",
              "<p>180 rows × 1 columns</p>\n",
              "</div>"
            ],
            "text/plain": [
              "              0\n",
              "0     34.100666\n",
              "1    110.029137\n",
              "2    204.303894\n",
              "3    218.578049\n",
              "4    235.737274\n",
              "..          ...\n",
              "175   60.077183\n",
              "176   56.609997\n",
              "177   53.156265\n",
              "178   49.784542\n",
              "179   47.070381\n",
              "\n",
              "[180 rows x 1 columns]"
            ]
          },
          "metadata": {
            "tags": []
          },
          "execution_count": 146
        }
      ]
    },
    {
      "cell_type": "code",
      "metadata": {
        "id": "_HW7Awwc0gc8",
        "colab_type": "code",
        "colab": {
          "base_uri": "https://localhost:8080/",
          "height": 295
        },
        "outputId": "9b3c3fc8-8d27-4b54-eb53-a6e2e31b7ae4"
      },
      "source": [
        "plt.plot(real_stock_price, color = 'red', label = 'Real Apple Stock Price')\n",
        "plt.plot(predicted_stock_price, color = 'gold', label = 'Predicted Apple Stock Price')\n",
        "plt.title('Apple Stock Price Prediction')\n",
        "plt.xlabel('Time')\n",
        "plt.ylabel('Apple Stock Price')\n",
        "plt.legend()\n",
        "plt.show()"
      ],
      "execution_count": 147,
      "outputs": [
        {
          "output_type": "display_data",
          "data": {
            "image/png": "[encoded data removed]",
            "text/plain": [
              "<Figure size 432x288 with 1 Axes>"
            ]
          },
          "metadata": {
            "tags": [],
            "needs_background": "light"
          }
        }
      ]
    },
    {
      "cell_type": "code",
      "metadata": {
        "id": "Ufz__DwPuRPX",
        "colab_type": "code",
        "colab": {}
      },
      "source": [
        ""
      ],
      "execution_count": 0,
      "outputs": []
    }
  ]
}